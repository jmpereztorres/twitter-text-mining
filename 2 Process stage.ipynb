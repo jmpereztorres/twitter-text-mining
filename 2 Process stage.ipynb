{
 "cells": [
  {
   "cell_type": "markdown",
   "metadata": {},
   "source": [
    "### Load tweets from csv"
   ]
  },
  {
   "cell_type": "code",
   "execution_count": 2,
   "metadata": {},
   "outputs": [
    {
     "name": "stdout",
     "output_type": "stream",
     "text": [
      "\n"
     ]
    }
   ],
   "source": [
    "import csv\n",
    "\n",
    "tweets_file = open('tweets.csv', encoding='utf-8')\n",
    "print()"
   ]
  },
  {
   "cell_type": "markdown",
   "metadata": {},
   "source": [
    "### Tokenization"
   ]
  },
  {
   "cell_type": "code",
   "execution_count": 1,
   "metadata": {},
   "outputs": [
    {
     "ename": "NameError",
     "evalue": "name 'replace_emojis_by_words' is not defined",
     "output_type": "error",
     "traceback": [
      "\u001b[1;31m---------------------------------------------------------------------------\u001b[0m",
      "\u001b[1;31mNameError\u001b[0m                                 Traceback (most recent call last)",
      "\u001b[1;32m<ipython-input-1-3eae2a8d6566>\u001b[0m in \u001b[0;36m<module>\u001b[1;34m\u001b[0m\n\u001b[0;32m     20\u001b[0m         \u001b[0mtweet\u001b[0m \u001b[1;33m=\u001b[0m \u001b[0mrow\u001b[0m\u001b[1;33m[\u001b[0m\u001b[1;36m1\u001b[0m\u001b[1;33m]\u001b[0m\u001b[1;33m\u001b[0m\u001b[1;33m\u001b[0m\u001b[0m\n\u001b[0;32m     21\u001b[0m         \u001b[0mtweet\u001b[0m \u001b[1;33m=\u001b[0m \u001b[0mre\u001b[0m\u001b[1;33m.\u001b[0m\u001b[0msub\u001b[0m\u001b[1;33m(\u001b[0m\u001b[1;34m'(http|ftp|https)://([\\w_-]+(?:(?:\\.[\\w_-]+)+))([\\w.,@?^=%&:/~+#-]*[\\w@?^=%&/~+#-])?'\u001b[0m\u001b[1;33m,\u001b[0m \u001b[1;34m''\u001b[0m\u001b[1;33m,\u001b[0m \u001b[0mtweet\u001b[0m\u001b[1;33m)\u001b[0m\u001b[1;33m\u001b[0m\u001b[1;33m\u001b[0m\u001b[0m\n\u001b[1;32m---> 22\u001b[1;33m         \u001b[0mtweet\u001b[0m \u001b[1;33m=\u001b[0m \u001b[0mreplace_emojis_by_words\u001b[0m\u001b[1;33m(\u001b[0m\u001b[0mtweet\u001b[0m\u001b[1;33m)\u001b[0m\u001b[1;33m\u001b[0m\u001b[1;33m\u001b[0m\u001b[0m\n\u001b[0m\u001b[0;32m     23\u001b[0m         \u001b[0mprint\u001b[0m\u001b[1;33m(\u001b[0m\u001b[0mtweet\u001b[0m\u001b[1;33m)\u001b[0m\u001b[1;33m\u001b[0m\u001b[1;33m\u001b[0m\u001b[0m\n\u001b[0;32m     24\u001b[0m \u001b[1;33m\u001b[0m\u001b[0m\n",
      "\u001b[1;31mNameError\u001b[0m: name 'replace_emojis_by_words' is not defined"
     ]
    }
   ],
   "source": [
    "import csv\n",
    "import re\n",
    "from nltk.tokenize import TweetTokenizer\n",
    "from sklearn.feature_extraction.text import TfidfVectorizer\n",
    "from nltk.corpus import stopwords\n",
    "import nltk\n",
    "\n",
    "\n",
    "tknzr = TweetTokenizer(strip_handles=True, reduce_len=True, preserve_case=False)\n",
    "stopWords = stopwords.words('spanish')#.remove(':)').remove(':P').remove(':(')\n",
    "#emoticons = {\":)\":0, \":P\":1, \":(\":2}\n",
    "vec = TfidfVectorizer(use_idf = True, smooth_idf = True, sublinear_tf = False, stop_words=stopWords)\n",
    "X = None\n",
    "\n",
    "\n",
    "\n",
    "with open('tweets.csv', encoding='utf-8') as csv_file:\n",
    "    csv_reader = csv.reader(csv_file, delimiter='\\t')\n",
    "    for row in csv_reader:\n",
    "        tweet = row[1]\n",
    "        tweet = re.sub('(http|ftp|https)://([\\w_-]+(?:(?:\\.[\\w_-]+)+))([\\w.,@?^=%&:/~+#-]*[\\w@?^=%&/~+#-])?', '', tweet)\n",
    "        tweet = replace_emojis_by_words(tweet)\n",
    "        print(tweet)\n",
    "        \n",
    "        #tweet = re.sub(r'[^\\x00-\\x7F]+',' ', tweet)\n",
    "        tokenizedTweet = tknzr.tokenize(tweet)\n",
    "        \n",
    "        if(tokenizedTweet and len(tokenizedTweet) > 1):\n",
    "            try:\n",
    "                X = vec.fit_transform(tokenizedTweet)\n",
    "            except Exception as e: \n",
    "                print(e);\n",
    "                if(row[2] != 'NONE'):\n",
    "                    tokenizedTweet = re.sub(emoticons_happy, 'happy', tokenizedTweet)\n",
    "                    \n",
    "                    print(row)\n",
    "                    print(tokenizedTweet)\n",
    "            \n",
    "            \n",
    "voca = vec.get_feature_names()\n",
    "#print(pinta_matriz_dispersa(X, voca, 4))\n",
    "print()\n",
    "\n",
    "#print (pinta_matriz_dispersa(X, voca, 4))\n",
    "        \n",
    "\n",
    "        "
   ]
  },
  {
   "cell_type": "code",
   "execution_count": 26,
   "metadata": {},
   "outputs": [
    {
     "name": "stdout",
     "output_type": "stream",
     "text": [
      "+--------+-------+-----+---------+----------+-----+-----+-----+-----+\n",
      "| ayudar | besos |  de | gracias | libraras |  me |  no | nos |  te |\n",
      "+--------+-------+-----+---------+----------+-----+-----+-----+-----+\n",
      "|   -    |   -   |  -  |    -    |    -     |  -  | 1.0 |  -  |  -  |\n",
      "|   -    |   -   |  -  |    -    |    -     |  -  |  -  |  -  | 1.0 |\n",
      "|   -    |   -   |  -  |    -    |   1.0    |  -  |  -  |  -  |  -  |\n",
      "|   -    |   -   | 1.0 |    -    |    -     |  -  |  -  |  -  |  -  |\n",
      "|  1.0   |   -   |  -  |    -    |    -     |  -  |  -  |  -  |  -  |\n",
      "|   -    |   -   |  -  |    -    |    -     | 1.0 |  -  |  -  |  -  |\n",
      "|   -    |   -   |  -  |    -    |    -     |  -  |  -  |  -  |  -  |\n",
      "|   -    |   -   |  -  |    -    |    -     |  -  |  -  | 1.0 |  -  |\n",
      "|   -    |   -   |  -  |    -    |    -     |  -  |  -  |  -  |  -  |\n",
      "|   -    |  1.0  |  -  |    -    |    -     |  -  |  -  |  -  |  -  |\n",
      "|   -    |   -   |  -  |    -    |    -     |  -  |  -  |  -  |  -  |\n",
      "|   -    |   -   |  -  |   1.0   |    -     |  -  |  -  |  -  |  -  |\n",
      "+--------+-------+-----+---------+----------+-----+-----+-----+-----+\n"
     ]
    }
   ],
   "source": [
    "from sklearn.feature_extraction.text import CountVectorizer, TfidfVectorizer\n",
    "\n",
    "files = ['no', 'te', 'libraras', 'de', 'ayudar', 'me', '/', 'nos', '.', 'besos', 'y', 'gracias']\n",
    "\n",
    "vec = TfidfVectorizer()\n",
    "X = vec.fit_transform(files)\n",
    "voca = vec.get_feature_names()\n",
    "print (pinta_matriz_dispersa(X, voca, 4))\n",
    "\n",
    "\n",
    "#print(files)\n",
    "#regex = re.compile(r'^[\\s$&+,:;=?@#|''\"\"<>.^*()%!-\\\\\\/+!]{1}$')\n",
    "\n",
    "#print(regex.match(files[6]))\n",
    "#selected_files = filter(lambda x: regex.match(x), files)\n",
    "#print(selected_files[0])"
   ]
  },
  {
   "cell_type": "code",
   "execution_count": 17,
   "metadata": {},
   "outputs": [],
   "source": [
    "import json\n",
    "import re\n",
    "from prettytable import PrettyTable\n",
    "\n",
    "def pinta_matriz_dispersa(M, nombre_col=None, pre=2):\n",
    "    filas, columnas = M.shape\n",
    "    header = nombre_col != None\n",
    "    pt = PrettyTable(nombre_col, header=header)\n",
    "    for fila in range(filas):\n",
    "        vf = M.getrow(fila)\n",
    "        _, cind = vf.nonzero()\n",
    "        #f = [vf[0, c] if c in cind else '-' for c in range(columnas)]\n",
    "        pt.add_row([round(vf[0, c],pre) if c in cind else '-' for c in range(columnas)])\n",
    "        #print (f)\n",
    "        #pt.add_row(f)\n",
    "    return pt"
   ]
  },
  {
   "cell_type": "code",
   "execution_count": 34,
   "metadata": {},
   "outputs": [
    {
     "name": "stdout",
     "output_type": "stream",
     "text": [
      ":( and :) \n",
      "^:3\n",
      "^:P\n",
      "FAIL: ^;)\n",
      "^8-D\n",
      "^X-D\n",
      "^:*\n",
      "FAIL: ^>:-)\n",
      "^:p\n",
      "^x-p\n",
      "^<3\n",
      "^:-p\n",
      "^:]\n",
      "FAIL: ^:)\n",
      "FAIL: ^8)\n",
      "^XD\n",
      "^:D\n",
      "FAIL: ^:^)\n",
      "^xD\n",
      "^:-b\n",
      "FAIL: ^:^*\n",
      "FAIL: ^>;)\n",
      "^:-P\n",
      "FAIL: ^:'-)\n",
      "^=p\n",
      "^=3\n",
      "^:b\n",
      "^>:P\n",
      "^:-D\n",
      "FAIL: ^>:)\n",
      "^:>\n",
      "FAIL: ^:-)\n",
      "FAIL: ^:')\n",
      "^X-P\n",
      "^XP\n",
      "^=D\n",
      "FAIL: ^=)\n",
      "^:}\n",
      "^=]\n",
      "^8D\n",
      "^x-D\n",
      "FAIL: ^:c)\n",
      "^=-D\n",
      "^xp\n",
      "^=-3\n",
      "FAIL: ^:o)\n",
      "bueno( and :) \n",
      "bueno( and :) \n",
      "bueno( and :) \n",
      "bueno( and :) \n",
      "FAIL: ^:(\n",
      "malobmaloumaloemalonmaloomalo(malo maloamalonmalodmalo malo:malo)malo malo\n",
      "malobmaloumaloemalonmaloomalo(malo maloamalonmalodmalo malo:malo)malo malo\n",
      "FAIL: ^;(\n",
      "FAIL: ^>:(\n",
      "FAIL: ^:'-(\n",
      "FAIL: ^:[\n",
      "malobmaloumaloemalonmaloomalo(malo maloamalonmalodmalo malo:malo)malo malo\n",
      "malobmaloumaloemalonmaloomalo(malo maloamalonmalodmalo malo:malo)malo malo\n",
      "malobmaloumaloemalonmaloomalo(malo maloamalonmalodmalo malo:malo)malo malo\n",
      "malobmaloumaloemalonmaloomalo(malo maloamalonmalodmalo malo:malo)malo malo\n",
      "malobmaloumaloemalonmaloomalo(malo maloamalonmalodmalo malo:malo)malo malo\n",
      "malobmaloumaloemalonmaloomalo(malo maloamalonmalodmalo malo:malo)malo malo\n",
      "malobmaloumaloemalonmaloomalo(malo maloamalonmalodmalo malo:malo)malo malo\n",
      "FAIL: ^:'(\n",
      "FAIL: ^:-(\n",
      "malobmaloumaloemalonmaloomalo(malo maloamalonmalodmalo malo:malo)malo malo\n",
      "FAIL: ^:-[\n",
      "malobmaloumaloemalonmaloomalo(malo maloamalonmalodmalo malo:malo)malo malo\n",
      "malobmaloumaloemalonmaloomalo(malo maloamalonmalodmalo malo:malo)malo malo\n",
      "malobmaloumaloemalonmaloomalo(malo maloamalonmalodmalo malo:malo)malo malo\n",
      "FAIL: ^>:[\n",
      "malobmaloumaloemalonmaloomalo(malo maloamalonmalodmalo malo:malo)malo malo\n"
     ]
    }
   ],
   "source": [
    "import re\n",
    "\n",
    "emoticons_happy = set([ r'^:-)', r'^:)', r'^;)', r'^:o)', r'^:]', r'^:3', r'^:c)', r'^:>', r'^=]', r'^8)', r'^=)', \n",
    "                       r'^:}', r'^:^)', r'^:-D', r'^:D', r'^8-D', r'^8D', r'^x-D', r'^xD', r'^X-D', r'^XD', r'^=-D', \n",
    "                       r'^=D', r'^=-3', r'^=3', r\"^:'-)\", r\"^:')\", r\"^:*\", r'^:^*', r'^>:P', r'^:-P', r'^:P', \n",
    "                       r'^X-P', r'^x-p', r'^xp', r'^XP', r'^:-p', r'^:p', r'^=p', r'^:-b', r'^:b', r'^>:)', r'^>;)', \n",
    "                       r'^>:-)', r'^<3' ]) \n",
    "# Sad Emoticons\n",
    "emoticons_sad = set([ r'^:L', r'^:-/', r'^>:/', r'^:S', r'^>:[', r'^:@', r'^:-(', r'^:[', r'^:-||', r'^=L', r'^:<', \n",
    "                     r'^:-[', r'^:-<', r'^=\\'', r'^=/', r'^>:(', r'^:(', r'^>.<', r\"^:'-(\", r\"^:'(\", r'^:\\'', r'^:-c',\n",
    "                    r'^:c', r'^:{', r'^>:\\'', r'^;(' ])\n",
    "sentence = ':( and :) '\n",
    "\n",
    "\n",
    "def replace_emojis_by_words(sentence):\n",
    "    \n",
    "    for emoji in emoticons_happy:\n",
    "        try:\n",
    "            sentence = re.sub(emoji, 'bueno', sentence)\n",
    "            print(emoji)\n",
    "        except:\n",
    "            print('FAIL: '+emoji)\n",
    "            \n",
    "    for emoji in emoticons_sad:\n",
    "        try:\n",
    "            sentence = re.sub(emoji, 'malo', sentence)\n",
    "            print(sentence)\n",
    "        except:\n",
    "            print('FAIL: ' + emoji)\n",
    "    \n",
    "    return sentence\n",
    "\n",
    "\n",
    "sentence = ':( and :) '\n",
    "print(sentence)\n",
    "sentence = replace_emojis_by_words(sentence)\n",
    "\n",
    "print(sentence)\n",
    "\n"
   ]
  },
  {
   "cell_type": "code",
   "execution_count": null,
   "metadata": {},
   "outputs": [],
   "source": []
  }
 ],
 "metadata": {
  "kernelspec": {
   "display_name": "Python 3",
   "language": "python",
   "name": "python3"
  },
  "language_info": {
   "codemirror_mode": {
    "name": "ipython",
    "version": 3
   },
   "file_extension": ".py",
   "mimetype": "text/x-python",
   "name": "python",
   "nbconvert_exporter": "python",
   "pygments_lexer": "ipython3",
   "version": "3.7.1"
  }
 },
 "nbformat": 4,
 "nbformat_minor": 2
}
